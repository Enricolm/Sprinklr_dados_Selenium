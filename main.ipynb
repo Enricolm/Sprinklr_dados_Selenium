{
 "cells": [
  {
   "cell_type": "code",
   "execution_count": 167,
   "metadata": {},
   "outputs": [
    {
     "name": "stderr",
     "output_type": "stream",
     "text": [
      "C:\\Users\\Enrico\\AppData\\Local\\Temp\\ipykernel_9124\\2283463277.py:22: DeprecationWarning: headless property is deprecated, instead use add_argument('--headless') or add_argument('--headless=new')\n",
      "  op.headless = False\n"
     ]
    }
   ],
   "source": [
    "from selenium import webdriver \n",
    "from selenium.webdriver.common.by import By\n",
    "#Biblioteca usada para identificar tags html e buscar na pág\n",
    "from selenium.webdriver.chrome.options import Options\n",
    "# Biblioteca usada para escolher se quero ver a aplicação sendo executada ou não\n",
    "from selenium.webdriver.chrome.service import Service\n",
    "from webdriver_manager.chrome import ChromeDriverManager\n",
    "from selenium.webdriver import ActionChains\n",
    "import json as json\n",
    "import urllib as urllib\n",
    "from time import sleep\n",
    "import urllib3\n",
    "urllib3.disable_warnings(urllib3.exceptions.InsecureRequestWarning)\n",
    "import os\n",
    "import zipfile\n",
    "from datetime import date\n",
    "import pandas as pd\n",
    "import shutil \n",
    "# %%\n",
    "op = Options()\n",
    "#Encurtando o nome do import\n",
    "op.headless = False\n",
    "#Quando o headless receber True a aplicação não é vista, quando é false vemos a aplicação sendo executada\n",
    "servico = Service((ChromeDriverManager().install()))\n",
    "navegador = webdriver.Chrome(service=servico,options=op )\n",
    "from datetime import date,timedelta\n",
    "\n",
    "\n",
    "# %%\n",
    "hj = date.today()\n",
    "hj = hj - timedelta(1)\n",
    "\n",
    "# %%\n",
    "\n",
    "link = 'https://app.sprinklr.com/ui/login?returnTo=%2Fui%2Fservice%2Flogin%3Fservice%3Dspr%26returnTo%3Dhttps%253A%252F%252Fspace.sprinklr.com%252Fsocial%252Finsights%252Freporting%252Fdashboard%252F640b9d4b72b8e67503ebc0ee%252Ftab%252F0&service=spr'\n",
    "navegador.get(url=link)\n",
    "action = ActionChains(navegador)\n",
    "def Extrair_zip():\n",
    "    os.chdir('C:\\\\Users\\\\Enrico\\\\Downloads')\n",
    "    for i in os.listdir():\n",
    "        if i == 'PfizerPro.zip':\n",
    "            shutil.move('C:\\\\Users\\\\Enrico\\\\Downloads\\\\'+ i,'E:\\\\Enrico_Work\\\\Sprinklr_HHY_Auto\\\\')\n",
    "    os.chdir('E:\\\\Enrico_Work\\\\Sprinklr_HHY_Auto')\n",
    "    sleep(5)\n",
    "    with zipfile.ZipFile('PfizerPro.zip', 'r') as zip_ref:\n",
    "        zip_ref.extract('PfizerProKPIs_1.csv', 'E:\\\\Enrico_Work\\\\Sprinklr_HHY_Auto\\\\')\n",
    "        zip_ref.extract('URLs_2.csv', 'E:\\\\Enrico_Work\\\\Sprinklr_HHY_Auto\\\\')\n",
    "        zip_ref.extract('AdVariants_3.csv', 'E:\\\\Enrico_Work\\\\Sprinklr_HHY_Auto\\\\')\n",
    "\n",
    "def dados_PfizerProKPIs():\n",
    "    dados_PfizerProKPIs = pd.read_csv('PfizerProKPIs_1.csv',sep=',')\n",
    "    dados_PfizerProKPIs.fillna(0.0,inplace=True)\n",
    "    dados_PfizerProKPIs.to_csv('PfizerProKPIs.csv', sep = ';')\n",
    "    \n",
    "\n",
    "def remover():\n",
    "    os.remove('AdVariants_3.csv')\n",
    "    os.remove('URLs_2.csv')\n",
    "    os.remove('PfizerProKPIs_1.csv')\n",
    "    os.remove('PfizerPro.zip')\n"
   ]
  },
  {
   "cell_type": "code",
   "execution_count": 168,
   "metadata": {},
   "outputs": [],
   "source": [
    "navegador.find_element(By.XPATH, '//*[@id=\"root\"]/div/div/div/section[2]/section/div[1]/div/div/div/div/div/div/form/div[1]/div[1]/input').send_keys('###########')\n",
    "sleep(2)\n",
    "navegador.find_element(By.XPATH, '//*[@id=\"root\"]/div/div/div/section[2]/section/div[1]/div/div/div/div/div/div/form/div[1]/div[2]/button').click()\n",
    "sleep(3)\n",
    "navegador.find_element(By.XPATH, '//*[@id=\"root\"]/div/div/div/section[2]/section/div[1]/div/div/div/div/div/div[2]/form/div[2]/div[1]/input').send_keys('############')\n",
    "sleep(2)\n",
    "navegador.find_element(By.XPATH, '//*[@id=\"root\"]/div/div/div/section[2]/section/div[1]/div/div/div/div/div/div[2]/form/div[2]/button').click()\n",
    "\n",
    "sleep(8)"
   ]
  },
  {
   "cell_type": "code",
   "execution_count": 169,
   "metadata": {},
   "outputs": [],
   "source": [
    "navegador.find_element(By.XPATH, '/html/body/div[3]/div/div[1]/div/div[1]/div[1]/div[1]/div[2]/div/div/div[2]/section/div[2]/div[1]/div[1]/header/div/div/div/div/div/div[1]/div/div[3]/div/div[4]/div/button').click()\n",
    "sleep(5)\n",
    "navegador.find_element(By.XPATH,'/html/body/div[8]/div/div[2]/div/div/ul/li[9]').click()\n",
    "sleep(3)                         \n",
    "navegador.find_element(By.XPATH, '//*[contains(text(), \"CSV\")]').click()\n",
    "sleep(3)\n",
    "navegador.find_element(By.XPATH, '/html/body/div[9]/div/div[2]/div/div/div/div[2]/div/form/div/div/div[2]/div[2]/div[1]').click()\n",
    "sleep(2)\n",
    "navegador.find_element(By.XPATH, '/html/body/div[9]/div/div[2]/div/div/div/div[3]/button[2]').click()"
   ]
  },
  {
   "cell_type": "code",
   "execution_count": 170,
   "metadata": {},
   "outputs": [],
   "source": [
    "sleep(20)\n",
    "navegador.find_element(By.ID,'sw-id--21__anchor').click()\n",
    "sleep(3)\n",
    "navegador.find_element(By.LINK_TEXT,'this link').click()\n",
    "sleep(7)\n"
   ]
  },
  {
   "cell_type": "code",
   "execution_count": 171,
   "metadata": {},
   "outputs": [],
   "source": [
    "Extrair_zip()\n",
    "sleep(10)"
   ]
  },
  {
   "cell_type": "code",
   "execution_count": 172,
   "metadata": {},
   "outputs": [],
   "source": [
    "dados_PfizerProKPIs()"
   ]
  },
  {
   "cell_type": "code",
   "execution_count": 173,
   "metadata": {},
   "outputs": [],
   "source": [
    "remover()\n",
    "navegador.close()"
   ]
  }
 ],
 "metadata": {
  "kernelspec": {
   "display_name": "base",
   "language": "python",
   "name": "python3"
  },
  "language_info": {
   "codemirror_mode": {
    "name": "ipython",
    "version": 3
   },
   "file_extension": ".py",
   "mimetype": "text/x-python",
   "name": "python",
   "nbconvert_exporter": "python",
   "pygments_lexer": "ipython3",
   "version": "3.9.13"
  },
  "orig_nbformat": 4
 },
 "nbformat": 4,
 "nbformat_minor": 2
}
